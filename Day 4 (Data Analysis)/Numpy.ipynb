{
 "cells": [
  {
   "cell_type": "code",
   "execution_count": 1,
   "id": "a8a2a3d8-8a7c-4e4d-9fde-cd9d4918cd66",
   "metadata": {},
   "outputs": [
    {
     "name": "stdout",
     "output_type": "stream",
     "text": [
      "2.2.3\n"
     ]
    }
   ],
   "source": [
    "import numpy as np\n",
    "print(np.__version__)"
   ]
  },
  {
   "cell_type": "code",
   "execution_count": 4,
   "id": "919c01ee-746b-4723-9036-d07de80f9761",
   "metadata": {},
   "outputs": [
    {
     "name": "stdout",
     "output_type": "stream",
     "text": [
      "[10 20 30 40 50]\n",
      "Type: <class 'numpy.ndarray'>\n",
      "Shape: (5,)\n"
     ]
    }
   ],
   "source": [
    "# Array creation\n",
    "list = [10,20,30,40,50]\n",
    "arr = np.array(list)\n",
    "\n",
    "print(arr)\n",
    "print('Type:',type(arr))\n",
    "print('Shape:',arr.shape)"
   ]
  },
  {
   "cell_type": "code",
   "execution_count": 7,
   "id": "02f70b54-fcd7-46b0-b6bc-1aad8f88b644",
   "metadata": {},
   "outputs": [
    {
     "name": "stdout",
     "output_type": "stream",
     "text": [
      "[[1 2 3]\n",
      " [4 5 6]]\n",
      "(2, 3)\n",
      "6\n",
      "[1 2 3]\n",
      "3\n"
     ]
    }
   ],
   "source": [
    "arr1=np.array([[1,2,3],[4,5,6]])\n",
    "print(arr1)\n",
    "print(arr1.shape) #rows and columns\n",
    "print(arr1.size)  #length\n",
    "print(arr1[0])    #first row\n",
    "print(arr1[0][2])  #first row second column"
   ]
  },
  {
   "cell_type": "code",
   "execution_count": 8,
   "id": "eb40037f-f015-4491-a5a9-5eb0a8fbb3c1",
   "metadata": {},
   "outputs": [],
   "source": [
    "# Generate Array\n",
    "arr1 = np.zeros((2,3))"
   ]
  },
  {
   "cell_type": "code",
   "execution_count": 9,
   "id": "2e89facd-a1a7-4751-970a-41449795d8c5",
   "metadata": {},
   "outputs": [
    {
     "name": "stdout",
     "output_type": "stream",
     "text": [
      "[[1. 1. 1.]\n",
      " [1. 1. 1.]\n",
      " [1. 1. 1.]]\n"
     ]
    }
   ],
   "source": [
    "arr2 = np.ones((3,3))\n",
    "print(arr2)"
   ]
  },
  {
   "cell_type": "code",
   "execution_count": 13,
   "id": "f495e27d-8ac3-4011-9ae4-3d4c628541c3",
   "metadata": {},
   "outputs": [
    {
     "name": "stdout",
     "output_type": "stream",
     "text": [
      "[ 3  9 15]\n",
      "[ 2 20 56]\n",
      "[ 1 16 49]\n"
     ]
    }
   ],
   "source": [
    "arr3 = np.arange(1,10,3)  #[1,4,7]\n",
    "arr4 = np.arange(2,10,3)  #[2,5,8]\n",
    "print(arr3+arr4)     #adding [3,9,15]\n",
    "print(arr3*arr4)     # multiply\n",
    "print(arr3**2)"
   ]
  },
  {
   "cell_type": "code",
   "execution_count": 11,
   "id": "7973fb53-fe14-4e1b-abd3-fbd8f846d360",
   "metadata": {},
   "outputs": [
    {
     "name": "stdout",
     "output_type": "stream",
     "text": [
      "[[1 4 7]\n",
      " [2 5 8]]\n"
     ]
    }
   ],
   "source": [
    "sample = np.array([np.arange(1,10,3),np.arange(2,10,3)])\n",
    "print(sample)"
   ]
  },
  {
   "cell_type": "code",
   "execution_count": 16,
   "id": "36add29b-b635-4069-a72c-2538060d12c2",
   "metadata": {},
   "outputs": [
    {
     "name": "stdout",
     "output_type": "stream",
     "text": [
      "Total Spend: [ 450  950  450 1650  230]\n",
      "Average spend: [150.         316.66666667 150.         550.          76.66666667]\n",
      "550.0\n"
     ]
    }
   ],
   "source": [
    "# Customer purchase analysis\n",
    "\n",
    "purchases = np.array([\n",
    "    [200,150, 100],\n",
    "    [300,250, 400],\n",
    "    [100,200, 150],\n",
    "    [500,600, 550],\n",
    "    [50,80, 100]\n",
    "])\n",
    "\n",
    "# total spend per customer\n",
    "total_spend = purchases.sum(axis=1)\n",
    "# avg spend\n",
    "average_spend = purchases.mean(axis=1)\n",
    "\n",
    "print(\"Total Spend:\", total_spend)\n",
    "print(\"Average spend:\", average_spend)\n",
    "print(max(average_spend))"
   ]
  },
  {
   "cell_type": "code",
   "execution_count": 19,
   "id": "82241068-9f92-4fad-978e-096d876e99fa",
   "metadata": {},
   "outputs": [
    {
     "name": "stdout",
     "output_type": "stream",
     "text": [
      "Solution is: [2.2 1.2]\n"
     ]
    }
   ],
   "source": [
    "# SOLVE the system of equation\n",
    "# 2X + 3y = 8\n",
    "# 4x +y = 10\n",
    "\n",
    "import numpy as np\n",
    "\n",
    "# Coefficients of variables\n",
    "A = np.array([[2,3],[4,1]])\n",
    "\n",
    "# Constants on the right-hand side\n",
    "B = np.array([8,10])\n",
    "\n",
    "# Solve for x and y\n",
    "solution = np.linalg.solve(A, B)\n",
    "\n",
    "print(\"Solution is:\",solution)"
   ]
  },
  {
   "cell_type": "markdown",
   "id": "5f73205a-873d-416f-8612-515e0f498be0",
   "metadata": {},
   "source": [
    "# Assignment"
   ]
  },
  {
   "cell_type": "code",
   "execution_count": 32,
   "id": "0ab4dbbf-e7d2-4031-98ec-913bd71390f2",
   "metadata": {},
   "outputs": [
    {
     "name": "stdout",
     "output_type": "stream",
     "text": [
      "Total sales: 15900\n",
      "Avg sales: 1590.0\n",
      "Max sales: 2000\n",
      "Lowest sales: 1000\n",
      "Days with sales above the average: [1 4 6 7 8]\n",
      "Sales with 10% increase: [1100. 1980. 1650. 1210. 2090. 1650. 2145. 2200. 1925. 1540.]\n",
      "Sales in Asc order: [1000 1100 1400 1500 1500 1750 1800 1900 1950 2000]\n"
     ]
    }
   ],
   "source": [
    "sales = np.array([1000,1800,1500,1100,1900,1500,1950,2000,1750,1400])\n",
    "\n",
    "# Assume 10 days data\n",
    "\n",
    "# find the total sales\n",
    "total_sales = np.sum(sales)\n",
    "print(\"Total sales:\", total_sales)\n",
    "\n",
    "# Average sales\n",
    "avg_sales = np.average(sales)\n",
    "print(\"Avg sales:\", avg_sales)\n",
    "\n",
    "# Highest and lowest sales\n",
    "highest_sales = np.max(sales)\n",
    "print(\"Max sales:\", highest_sales)\n",
    "\n",
    "# Highest and lowest sales\n",
    "lowest_sales = np.min(sales)\n",
    "print(\"Lowest sales:\", lowest_sales)\n",
    "\n",
    "#above the average\n",
    "days_above_avg = np.where(sales > avg_sales)[0]\n",
    "print(f\"Days with sales above the average: {days_above_avg}\")\n",
    "\n",
    "#10% increase\n",
    "increased_sales = sales * 1.10\n",
    "print(f\"Sales with 10% increase: {increased_sales}\")\n",
    "\n",
    "# sort the sales\n",
    "sort_sales = np.sort(sales)\n",
    "print(\"Sales in Asc order:\",sort_sales)"
   ]
  },
  {
   "cell_type": "code",
   "execution_count": 37,
   "id": "6ed2e231-74ef-4483-be4d-08e31302c0fe",
   "metadata": {},
   "outputs": [
    {
     "name": "stdout",
     "output_type": "stream",
     "text": [
      "   Order_ID       Product     Category  Quantity  Price  Total_Amount  \\\n",
      "0      1001        Laptop  Electronics         2    700           NaN   \n",
      "1      1002  Mobile Phone  Electronics         1    500           NaN   \n",
      "2      1003    Headphones  Accessories         3     50           NaN   \n",
      "3      1004         Mouse  Accessories         2     20           NaN   \n",
      "4      1005      Keyboard  Accessories         1     30           NaN   \n",
      "5      1006       T-shirt     Clothing         4     15           NaN   \n",
      "6      1007        Jacket     Clothing         1     60           NaN   \n",
      "7      1008  Refrigerator  Electronics         1    900           NaN   \n",
      "8      1009            TV  Electronics         2   1100           NaN   \n",
      "9      1010         Shoes     Clothing         2     40           NaN   \n",
      "\n",
      "         Date  \n",
      "0  2024-02-01  \n",
      "1  2024-02-02  \n",
      "2  2024-02-03  \n",
      "3  2024-02-04  \n",
      "4  2024-02-05  \n",
      "5  2024-02-06  \n",
      "6  2024-02-07  \n",
      "7  2024-02-08  \n",
      "8  2024-02-09  \n",
      "9  2024-02-10  \n"
     ]
    }
   ],
   "source": [
    "import pandas as pd\n",
    " \n",
    "df = pd.read_csv('sales_data.csv')\n",
    " \n",
    "print(df)\n",
    " \n",
    "\n",
    " \n",
    " "
   ]
  },
  {
   "cell_type": "code",
   "execution_count": 38,
   "id": "3b78d61e-927e-4edf-a075-742187dc0a6c",
   "metadata": {},
   "outputs": [
    {
     "name": "stdout",
     "output_type": "stream",
     "text": [
      "<class 'pandas.core.frame.DataFrame'>\n",
      "RangeIndex: 10 entries, 0 to 9\n",
      "Data columns (total 7 columns):\n",
      " #   Column        Non-Null Count  Dtype  \n",
      "---  ------        --------------  -----  \n",
      " 0   Order_ID      10 non-null     int64  \n",
      " 1   Product       10 non-null     object \n",
      " 2   Category      10 non-null     object \n",
      " 3   Quantity      10 non-null     int64  \n",
      " 4   Price         10 non-null     int64  \n",
      " 5   Total_Amount  0 non-null      float64\n",
      " 6   Date          10 non-null     object \n",
      "dtypes: float64(1), int64(3), object(3)\n",
      "memory usage: 692.0+ bytes\n"
     ]
    }
   ],
   "source": [
    "df.info()\n",
    " "
   ]
  },
  {
   "cell_type": "code",
   "execution_count": 39,
   "id": "e2eadc58-ac8d-4de5-a1f8-fe44e1c1535c",
   "metadata": {},
   "outputs": [
    {
     "data": {
      "text/html": [
       "<div>\n",
       "<style scoped>\n",
       "    .dataframe tbody tr th:only-of-type {\n",
       "        vertical-align: middle;\n",
       "    }\n",
       "\n",
       "    .dataframe tbody tr th {\n",
       "        vertical-align: top;\n",
       "    }\n",
       "\n",
       "    .dataframe thead th {\n",
       "        text-align: right;\n",
       "    }\n",
       "</style>\n",
       "<table border=\"1\" class=\"dataframe\">\n",
       "  <thead>\n",
       "    <tr style=\"text-align: right;\">\n",
       "      <th></th>\n",
       "      <th>Order_ID</th>\n",
       "      <th>Product</th>\n",
       "      <th>Category</th>\n",
       "      <th>Quantity</th>\n",
       "      <th>Price</th>\n",
       "      <th>Total_Amount</th>\n",
       "      <th>Date</th>\n",
       "    </tr>\n",
       "  </thead>\n",
       "  <tbody>\n",
       "    <tr>\n",
       "      <th>0</th>\n",
       "      <td>False</td>\n",
       "      <td>False</td>\n",
       "      <td>False</td>\n",
       "      <td>False</td>\n",
       "      <td>False</td>\n",
       "      <td>True</td>\n",
       "      <td>False</td>\n",
       "    </tr>\n",
       "    <tr>\n",
       "      <th>1</th>\n",
       "      <td>False</td>\n",
       "      <td>False</td>\n",
       "      <td>False</td>\n",
       "      <td>False</td>\n",
       "      <td>False</td>\n",
       "      <td>True</td>\n",
       "      <td>False</td>\n",
       "    </tr>\n",
       "    <tr>\n",
       "      <th>2</th>\n",
       "      <td>False</td>\n",
       "      <td>False</td>\n",
       "      <td>False</td>\n",
       "      <td>False</td>\n",
       "      <td>False</td>\n",
       "      <td>True</td>\n",
       "      <td>False</td>\n",
       "    </tr>\n",
       "    <tr>\n",
       "      <th>3</th>\n",
       "      <td>False</td>\n",
       "      <td>False</td>\n",
       "      <td>False</td>\n",
       "      <td>False</td>\n",
       "      <td>False</td>\n",
       "      <td>True</td>\n",
       "      <td>False</td>\n",
       "    </tr>\n",
       "    <tr>\n",
       "      <th>4</th>\n",
       "      <td>False</td>\n",
       "      <td>False</td>\n",
       "      <td>False</td>\n",
       "      <td>False</td>\n",
       "      <td>False</td>\n",
       "      <td>True</td>\n",
       "      <td>False</td>\n",
       "    </tr>\n",
       "    <tr>\n",
       "      <th>5</th>\n",
       "      <td>False</td>\n",
       "      <td>False</td>\n",
       "      <td>False</td>\n",
       "      <td>False</td>\n",
       "      <td>False</td>\n",
       "      <td>True</td>\n",
       "      <td>False</td>\n",
       "    </tr>\n",
       "    <tr>\n",
       "      <th>6</th>\n",
       "      <td>False</td>\n",
       "      <td>False</td>\n",
       "      <td>False</td>\n",
       "      <td>False</td>\n",
       "      <td>False</td>\n",
       "      <td>True</td>\n",
       "      <td>False</td>\n",
       "    </tr>\n",
       "    <tr>\n",
       "      <th>7</th>\n",
       "      <td>False</td>\n",
       "      <td>False</td>\n",
       "      <td>False</td>\n",
       "      <td>False</td>\n",
       "      <td>False</td>\n",
       "      <td>True</td>\n",
       "      <td>False</td>\n",
       "    </tr>\n",
       "    <tr>\n",
       "      <th>8</th>\n",
       "      <td>False</td>\n",
       "      <td>False</td>\n",
       "      <td>False</td>\n",
       "      <td>False</td>\n",
       "      <td>False</td>\n",
       "      <td>True</td>\n",
       "      <td>False</td>\n",
       "    </tr>\n",
       "    <tr>\n",
       "      <th>9</th>\n",
       "      <td>False</td>\n",
       "      <td>False</td>\n",
       "      <td>False</td>\n",
       "      <td>False</td>\n",
       "      <td>False</td>\n",
       "      <td>True</td>\n",
       "      <td>False</td>\n",
       "    </tr>\n",
       "  </tbody>\n",
       "</table>\n",
       "</div>"
      ],
      "text/plain": [
       "   Order_ID  Product  Category  Quantity  Price  Total_Amount   Date\n",
       "0     False    False     False     False  False          True  False\n",
       "1     False    False     False     False  False          True  False\n",
       "2     False    False     False     False  False          True  False\n",
       "3     False    False     False     False  False          True  False\n",
       "4     False    False     False     False  False          True  False\n",
       "5     False    False     False     False  False          True  False\n",
       "6     False    False     False     False  False          True  False\n",
       "7     False    False     False     False  False          True  False\n",
       "8     False    False     False     False  False          True  False\n",
       "9     False    False     False     False  False          True  False"
      ]
     },
     "execution_count": 39,
     "metadata": {},
     "output_type": "execute_result"
    }
   ],
   "source": [
    "df.isnull()\n",
    " \n"
   ]
  },
  {
   "cell_type": "code",
   "execution_count": 40,
   "id": "ce398891-1a18-4278-95d4-e931da272594",
   "metadata": {},
   "outputs": [
    {
     "data": {
      "text/html": [
       "<div>\n",
       "<style scoped>\n",
       "    .dataframe tbody tr th:only-of-type {\n",
       "        vertical-align: middle;\n",
       "    }\n",
       "\n",
       "    .dataframe tbody tr th {\n",
       "        vertical-align: top;\n",
       "    }\n",
       "\n",
       "    .dataframe thead th {\n",
       "        text-align: right;\n",
       "    }\n",
       "</style>\n",
       "<table border=\"1\" class=\"dataframe\">\n",
       "  <thead>\n",
       "    <tr style=\"text-align: right;\">\n",
       "      <th></th>\n",
       "      <th>Order_ID</th>\n",
       "      <th>Product</th>\n",
       "      <th>Category</th>\n",
       "      <th>Quantity</th>\n",
       "      <th>Price</th>\n",
       "      <th>Total_Amount</th>\n",
       "      <th>Date</th>\n",
       "    </tr>\n",
       "  </thead>\n",
       "  <tbody>\n",
       "    <tr>\n",
       "      <th>0</th>\n",
       "      <td>1001</td>\n",
       "      <td>Laptop</td>\n",
       "      <td>Electronics</td>\n",
       "      <td>2</td>\n",
       "      <td>700</td>\n",
       "      <td>0.0</td>\n",
       "      <td>2024-02-01</td>\n",
       "    </tr>\n",
       "    <tr>\n",
       "      <th>1</th>\n",
       "      <td>1002</td>\n",
       "      <td>Mobile Phone</td>\n",
       "      <td>Electronics</td>\n",
       "      <td>1</td>\n",
       "      <td>500</td>\n",
       "      <td>0.0</td>\n",
       "      <td>2024-02-02</td>\n",
       "    </tr>\n",
       "    <tr>\n",
       "      <th>2</th>\n",
       "      <td>1003</td>\n",
       "      <td>Headphones</td>\n",
       "      <td>Accessories</td>\n",
       "      <td>3</td>\n",
       "      <td>50</td>\n",
       "      <td>0.0</td>\n",
       "      <td>2024-02-03</td>\n",
       "    </tr>\n",
       "    <tr>\n",
       "      <th>3</th>\n",
       "      <td>1004</td>\n",
       "      <td>Mouse</td>\n",
       "      <td>Accessories</td>\n",
       "      <td>2</td>\n",
       "      <td>20</td>\n",
       "      <td>0.0</td>\n",
       "      <td>2024-02-04</td>\n",
       "    </tr>\n",
       "    <tr>\n",
       "      <th>4</th>\n",
       "      <td>1005</td>\n",
       "      <td>Keyboard</td>\n",
       "      <td>Accessories</td>\n",
       "      <td>1</td>\n",
       "      <td>30</td>\n",
       "      <td>0.0</td>\n",
       "      <td>2024-02-05</td>\n",
       "    </tr>\n",
       "    <tr>\n",
       "      <th>5</th>\n",
       "      <td>1006</td>\n",
       "      <td>T-shirt</td>\n",
       "      <td>Clothing</td>\n",
       "      <td>4</td>\n",
       "      <td>15</td>\n",
       "      <td>0.0</td>\n",
       "      <td>2024-02-06</td>\n",
       "    </tr>\n",
       "    <tr>\n",
       "      <th>6</th>\n",
       "      <td>1007</td>\n",
       "      <td>Jacket</td>\n",
       "      <td>Clothing</td>\n",
       "      <td>1</td>\n",
       "      <td>60</td>\n",
       "      <td>0.0</td>\n",
       "      <td>2024-02-07</td>\n",
       "    </tr>\n",
       "    <tr>\n",
       "      <th>7</th>\n",
       "      <td>1008</td>\n",
       "      <td>Refrigerator</td>\n",
       "      <td>Electronics</td>\n",
       "      <td>1</td>\n",
       "      <td>900</td>\n",
       "      <td>0.0</td>\n",
       "      <td>2024-02-08</td>\n",
       "    </tr>\n",
       "    <tr>\n",
       "      <th>8</th>\n",
       "      <td>1009</td>\n",
       "      <td>TV</td>\n",
       "      <td>Electronics</td>\n",
       "      <td>2</td>\n",
       "      <td>1100</td>\n",
       "      <td>0.0</td>\n",
       "      <td>2024-02-09</td>\n",
       "    </tr>\n",
       "    <tr>\n",
       "      <th>9</th>\n",
       "      <td>1010</td>\n",
       "      <td>Shoes</td>\n",
       "      <td>Clothing</td>\n",
       "      <td>2</td>\n",
       "      <td>40</td>\n",
       "      <td>0.0</td>\n",
       "      <td>2024-02-10</td>\n",
       "    </tr>\n",
       "  </tbody>\n",
       "</table>\n",
       "</div>"
      ],
      "text/plain": [
       "   Order_ID       Product     Category  Quantity  Price  Total_Amount  \\\n",
       "0      1001        Laptop  Electronics         2    700           0.0   \n",
       "1      1002  Mobile Phone  Electronics         1    500           0.0   \n",
       "2      1003    Headphones  Accessories         3     50           0.0   \n",
       "3      1004         Mouse  Accessories         2     20           0.0   \n",
       "4      1005      Keyboard  Accessories         1     30           0.0   \n",
       "5      1006       T-shirt     Clothing         4     15           0.0   \n",
       "6      1007        Jacket     Clothing         1     60           0.0   \n",
       "7      1008  Refrigerator  Electronics         1    900           0.0   \n",
       "8      1009            TV  Electronics         2   1100           0.0   \n",
       "9      1010         Shoes     Clothing         2     40           0.0   \n",
       "\n",
       "         Date  \n",
       "0  2024-02-01  \n",
       "1  2024-02-02  \n",
       "2  2024-02-03  \n",
       "3  2024-02-04  \n",
       "4  2024-02-05  \n",
       "5  2024-02-06  \n",
       "6  2024-02-07  \n",
       "7  2024-02-08  \n",
       "8  2024-02-09  \n",
       "9  2024-02-10  "
      ]
     },
     "execution_count": 40,
     "metadata": {},
     "output_type": "execute_result"
    }
   ],
   "source": [
    "df.fillna(0)"
   ]
  },
  {
   "cell_type": "code",
   "execution_count": 41,
   "id": "07a1dcad-4fc8-4781-a3fc-f50da1133667",
   "metadata": {},
   "outputs": [
    {
     "data": {
      "text/plain": [
       "0    False\n",
       "1    False\n",
       "2    False\n",
       "3    False\n",
       "4    False\n",
       "5    False\n",
       "6    False\n",
       "7    False\n",
       "8    False\n",
       "9    False\n",
       "dtype: bool"
      ]
     },
     "execution_count": 41,
     "metadata": {},
     "output_type": "execute_result"
    }
   ],
   "source": [
    "df.duplicated()\n",
    " "
   ]
  },
  {
   "cell_type": "code",
   "execution_count": 42,
   "id": "6babcc34-ab3a-4481-a167-825748a4da35",
   "metadata": {},
   "outputs": [
    {
     "data": {
      "text/plain": [
       "Order_ID          int64\n",
       "Product          object\n",
       "Category         object\n",
       "Quantity          int64\n",
       "Price             int64\n",
       "Total_Amount    float64\n",
       "Date             object\n",
       "dtype: object"
      ]
     },
     "execution_count": 42,
     "metadata": {},
     "output_type": "execute_result"
    }
   ],
   "source": [
    "df.dtypes\n",
    " \n"
   ]
  },
  {
   "cell_type": "code",
   "execution_count": 45,
   "id": "3bd861b2-527f-461c-98fe-a606c539e7e7",
   "metadata": {},
   "outputs": [
    {
     "data": {
      "text/plain": [
       "str"
      ]
     },
     "execution_count": 45,
     "metadata": {},
     "output_type": "execute_result"
    }
   ],
   "source": [
    "df['Date']=pd.to_datetime(df['Date'])\n",
    "df.dtypes\n",
    " \n",
    "type(\"HelloWorld\")"
   ]
  },
  {
   "cell_type": "code",
   "execution_count": 46,
   "id": "2cadd265-9b70-4770-a51b-cb3390ef5a29",
   "metadata": {},
   "outputs": [
    {
     "data": {
      "text/plain": [
       "Order_ID                 int64\n",
       "Product                 object\n",
       "Category                object\n",
       "Quantity                 int64\n",
       "Price                    int64\n",
       "Total_Amount           float64\n",
       "Date            datetime64[ns]\n",
       "dtype: object"
      ]
     },
     "execution_count": 46,
     "metadata": {},
     "output_type": "execute_result"
    }
   ],
   "source": [
    "df['Product'] = df['Product'].astype(str)\n",
    "df['Category'] = df['Category'].astype(str)\n",
    "df.dtypes"
   ]
  },
  {
   "cell_type": "code",
   "execution_count": 47,
   "id": "03b3bddd-a36d-4c93-98c4-c265c927af56",
   "metadata": {},
   "outputs": [
    {
     "data": {
      "text/plain": [
       "Order_ID                 int64\n",
       "Product                 object\n",
       "Category                object\n",
       "Quantity                 int64\n",
       "Price                    int64\n",
       "Total_Amount           float64\n",
       "Date            datetime64[ns]\n",
       "dtype: object"
      ]
     },
     "execution_count": 47,
     "metadata": {},
     "output_type": "execute_result"
    }
   ],
   "source": [
    "df['Product'] = df['Product'].astype(str)\n",
    "df.dtypes"
   ]
  },
  {
   "cell_type": "code",
   "execution_count": 49,
   "id": "e411f016-f73b-4722-944a-bc1b3e45b60c",
   "metadata": {},
   "outputs": [
    {
     "name": "stdout",
     "output_type": "stream",
     "text": [
      "Outliers:  [100]\n"
     ]
    }
   ],
   "source": [
    "data = np.array([10,12,14,15,18,21,25,100])\n",
    " \n",
    "Q1= np.percentile(data,25)\n",
    "Q3= np.percentile(data,75)\n",
    " \n",
    "IQR= Q3 - Q1\n",
    " \n",
    "lower_bound = Q1 - 1.5 * IQR\n",
    "upper_bound = Q3 + 1.5 * IQR\n",
    " \n",
    "outliers = data[(data < lower_bound) | ( data > upper_bound)]\n",
    " \n",
    "print(\"Outliers: \", outliers)\n"
   ]
  },
  {
   "cell_type": "markdown",
   "id": "0466936f-ee6c-4a3d-b831-4227e9eb7fd1",
   "metadata": {},
   "source": [
    "# Seaborn"
   ]
  },
  {
   "cell_type": "code",
   "execution_count": 50,
   "id": "dfbc77b6-35e3-4b5a-91dd-de0ed34ae4ec",
   "metadata": {},
   "outputs": [
    {
     "data": {
      "image/png": "[encoded data removed]",
      "text/plain": [
       "<Figure size 640x480 with 1 Axes>"
      ]
     },
     "metadata": {},
     "output_type": "display_data"
    }
   ],
   "source": [
    "import seaborn as sns\n",
    "import matplotlib.pyplot as plt\n",
    "import pandas as pd\n",
    " \n",
    "data = pd.DataFrame({\n",
    "    'x' : [1,2,3,4,5,6],\n",
    "    'y' : [10,90,30,90,50,10]\n",
    "})\n",
    " \n",
    "sns.lineplot(x='x' , y='y' , data=data)\n",
    "plt.title(\"Seaborn Line Plot\")\n",
    "plt.show()"
   ]
  },
  {
   "cell_type": "code",
   "execution_count": 51,
   "id": "fff630f9-8d11-4e9a-a153-d0d71535a713",
   "metadata": {},
   "outputs": [
    {
     "name": "stdout",
     "output_type": "stream",
     "text": [
      "Total Sales: 17950\n",
      "Average Sales: 1795.0\n",
      "Highest Sales: 2100\n",
      "Lowest Sales: 1300\n"
     ]
    }
   ],
   "source": [
    "import numpy as np\n",
    "import matplotlib.pyplot as plt\n",
    " \n",
    "# Let's create the data\n",
    "sales = np.array([1300,1500,1600,2000,1900,1800,2100,1750,2100,1900])\n",
    "days = np.arange(1,11)\n",
    " \n",
    "total_sales = np.sum(sales)\n",
    "average_sales = np.mean(sales)\n",
    "highest_sales = np.max(sales)\n",
    "lowest_sales = np.min(sales)\n",
    " \n",
    "print(f\"Total Sales: {total_sales}\")\n",
    "print(f\"Average Sales: {average_sales}\")\n",
    "print(f\"Highest Sales: {highest_sales}\")\n",
    "print(f\"Lowest Sales: {lowest_sales}\")"
   ]
  },
  {
   "cell_type": "code",
   "execution_count": 53,
   "id": "42c18de8-88bb-4f15-90e4-6dd2a02cd9e1",
   "metadata": {},
   "outputs": [
    {
     "data": {
      "image/png": "[encoded data removed]",
      "text/plain": [
       "<Figure size 800x500 with 1 Axes>"
      ]
     },
     "metadata": {},
     "output_type": "display_data"
    }
   ],
   "source": [
    "plt.figure(figsize = (8,5))\n",
    "plt.plot(days, sales, marker ='o', linestyle= '-', color='b', label= 'sales')\n",
    "plt.axhline(average_sales ,color ='r', linestyle= '--', label=\"Average Sales\")\n",
    " \n",
    "plt.xlabel(\"Days\")\n",
    "plt.ylabel(\"Sales Revenue ($)\")\n",
    "plt.title(\"Sales Trend Over 10 Days\")\n",
    "plt.legend()\n",
    "plt.grid(True)\n",
    "plt.show()\n"
   ]
  },
  {
   "cell_type": "code",
   "execution_count": 54,
   "id": "2f39b677-a43d-4f40-9025-ffc84a299725",
   "metadata": {},
   "outputs": [
    {
     "data": {
      "image/png": "[encoded data removed]",
      "text/plain": [
       "<Figure size 800x500 with 1 Axes>"
      ]
     },
     "metadata": {},
     "output_type": "display_data"
    }
   ],
   "source": [
    "plt.figure(figsize = (8,5))\n",
    "plt.bar(days, sales, color='b', label= 'sales')\n",
    "plt.xlabel(\"Days\")\n",
    "plt.ylabel(\"Sales Revenue ($)\")\n",
    "plt.ylabel(\"Sales per day\")\n",
    "plt.legend()\n",
    "plt.grid(axis='y',linestyle='--',alpha=0.7)\n",
    "plt.show()"
   ]
  },
  {
   "cell_type": "code",
   "execution_count": 55,
   "id": "cd2843a0-53e7-4b74-8005-8e017e0792ee",
   "metadata": {},
   "outputs": [
    {
     "data": {
      "image/png": "[encoded data removed]",
      "text/plain": [
       "<Figure size 800x500 with 1 Axes>"
      ]
     },
     "metadata": {},
     "output_type": "display_data"
    }
   ],
   "source": [
    "plt.figure(figsize = (8,5))\n",
    "plt.pie(sales, labels=days, colors=plt.cm.Paired.colors, autopct='%1.1f%%', startangle=140)\n",
    " \n",
    "plt.title(\"Sales Contributed\")\n",
    "plt.show()"
   ]
  },
  {
   "cell_type": "code",
   "execution_count": null,
   "id": "8a7947cb-a2a1-4588-8b53-07a9c0a25eb9",
   "metadata": {},
   "outputs": [],
   "source": []
  }
 ],
 "metadata": {
  "kernelspec": {
   "display_name": "Python 3 (ipykernel)",
   "language": "python",
   "name": "python3"
  },
  "language_info": {
   "codemirror_mode": {
    "name": "ipython",
    "version": 3
   },
   "file_extension": ".py",
   "mimetype": "text/x-python",
   "name": "python",
   "nbconvert_exporter": "python",
   "pygments_lexer": "ipython3",
   "version": "3.13.2"
  }
 },
 "nbformat": 4,
 "nbformat_minor": 5
}

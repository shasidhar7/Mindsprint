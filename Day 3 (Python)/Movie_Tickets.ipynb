{
 "cells": [
  {
   "cell_type": "markdown",
   "id": "dc5be2a5-f9e1-4f6f-92bb-ea6b8df6562b",
   "metadata": {},
   "source": [
    "# Movie Ticket Task"
   ]
  },
  {
   "cell_type": "code",
   "execution_count": 1,
   "id": "28780a46-1d4b-4960-979e-bb43eac97afb",
   "metadata": {},
   "outputs": [],
   "source": [
    "# Movie Ticket Booking System\n",
    " \n",
    "# Step 1: Store available movies in a list\n",
    "movies = [\n",
    "    {'title': 'Inception', 'genre': 'Sci-Fi', 'showtime': '18:00'},\n",
    "    {'title': 'The Dark Knight', 'genre': 'Action', 'showtime': '21:00'},\n",
    "    {'title': 'Interstellar', 'genre': 'Sci-Fi', 'showtime': '15:00'}\n",
    "]\n",
    " \n",
    "# Step 2: Maintain a set of unique theaters\n",
    "theaters = {'PVR Cinemas', 'INOX', 'Cinepolis'}\n",
    " \n",
    "# Step 3: Store ticket pricing details as a tuple\n",
    "ticket_pricing = (150, 200, 250)  # Prices in INR\n",
    " \n",
    "# Step 4: Create a dictionary of customers\n",
    "customers = {\n",
    "    'John': ['Inception'],\n",
    "    'Alice': ['The Dark Knight'],\n",
    "    'Bob': []\n",
    "}"
   ]
  },
  {
   "cell_type": "markdown",
   "id": "884346b3-37cf-42a8-ab66-3b141df32187",
   "metadata": {},
   "source": [
    "# Tasks"
   ]
  },
  {
   "cell_type": "code",
   "execution_count": 27,
   "id": "8a8202ac-cb39-45b4-a63e-9d8f2534c1cd",
   "metadata": {},
   "outputs": [
    {
     "name": "stdout",
     "output_type": "stream",
     "text": [
      "Movie 'RRR' added successfully\n"
     ]
    }
   ],
   "source": [
    "# Add a new movie to the movie list\n",
    "def add_movie(title, genre, showtime):\n",
    "    new_movie = {'title': title, 'genre': genre, 'showtime': showtime}\n",
    "    movies.append(new_movie)\n",
    "    print(f\"Movie '{title}' added successfully\")\n",
    "add_movie(\"RRR\", \"Action\", \"22:00\")\n",
    "\n"
   ]
  },
  {
   "cell_type": "code",
   "execution_count": 11,
   "id": "98aa6143-1d16-4901-94b9-d6073833f1ee",
   "metadata": {},
   "outputs": [
    {
     "name": "stdout",
     "output_type": "stream",
     "text": [
      "Movie 'RRR' removed successfully\n"
     ]
    }
   ],
   "source": [
    "# Task 2: Remove a movie from the list\n",
    "def remove_movie(title):\n",
    "    global movies\n",
    "    movies = [movie for movie in movies if movie['title'] != title]\n",
    "    print(f\"Movie '{title}' removed successfully\")\n",
    "remove_movie(\"RRR\")"
   ]
  },
  {
   "cell_type": "code",
   "execution_count": 12,
   "id": "1b53c524-f80c-46ba-80a6-e2daabbdf9ba",
   "metadata": {},
   "outputs": [
    {
     "name": "stdout",
     "output_type": "stream",
     "text": [
      "[{'title': 'Inception', 'genre': 'Sci-Fi', 'showtime': '18:00'}, {'title': 'The Dark Knight', 'genre': 'Action', 'showtime': '21:00'}]\n"
     ]
    }
   ],
   "source": [
    "print(movies)\n"
   ]
  },
  {
   "cell_type": "code",
   "execution_count": 13,
   "id": "658829a1-a33e-4f48-924c-66c23eb93762",
   "metadata": {},
   "outputs": [
    {
     "name": "stdout",
     "output_type": "stream",
     "text": [
      "Theater 'Theater 3' added successfully.\n"
     ]
    }
   ],
   "source": [
    "# Function to add a new theater\n",
    "def add_theater(theater_name):\n",
    "    theaters.add(theater_name)\n",
    "    print(f\"Theater '{theater_name}' added successfully.\")\n",
    "add_theater(\"Theater 3\")\n"
   ]
  },
  {
   "cell_type": "code",
   "execution_count": 14,
   "id": "05d9e105-6691-4501-aab4-e9e5b004a8bd",
   "metadata": {},
   "outputs": [
    {
     "name": "stdout",
     "output_type": "stream",
     "text": [
      "{'Theater 3', 'Cinepolis', 'PVR Cinemas', 'INOX'}\n"
     ]
    }
   ],
   "source": [
    "print(theaters)"
   ]
  },
  {
   "cell_type": "code",
   "execution_count": 15,
   "id": "842c72e8-f820-4312-851a-b5223893a69c",
   "metadata": {},
   "outputs": [
    {
     "name": "stdout",
     "output_type": "stream",
     "text": [
      "Customer 'Shasi' added successfully.\n"
     ]
    }
   ],
   "source": [
    "# Function to add a new customer\n",
    "def add_customer(name):\n",
    "    if name not in customers:\n",
    "        customers[name] = []\n",
    "        print(f\"Customer '{name}' added successfully.\")\n",
    "    else:\n",
    "        print(f\"Customer '{name}' already exists.\")\n",
    "add_customer(\"Shasi\")"
   ]
  },
  {
   "cell_type": "code",
   "execution_count": 16,
   "id": "13c0b99c-653d-4fd1-8014-2426ee65118c",
   "metadata": {},
   "outputs": [
    {
     "name": "stdout",
     "output_type": "stream",
     "text": [
      "{'John': ['Inception'], 'Alice': ['The Dark Knight'], 'Bob': [], 'Shasi': []}\n"
     ]
    }
   ],
   "source": [
    "print(customers)\n"
   ]
  },
  {
   "cell_type": "code",
   "execution_count": 17,
   "id": "62e363d0-f1ec-49fd-8c4d-42917778cddb",
   "metadata": {},
   "outputs": [
    {
     "name": "stdout",
     "output_type": "stream",
     "text": [
      "Customer 'Dhoni' does not exist.\n"
     ]
    }
   ],
   "source": [
    "# Function to book a movie ticket for a customer (not exist customer)\n",
    "def book_movie_ticket(customer_name, movie_title):\n",
    "    if customer_name in customers:\n",
    "        customers[customer_name].append(movie_title)\n",
    "        print(f\"Movie '{movie_title}' booked for customer '{customer_name}'.\")\n",
    "    else:\n",
    "        print(f\"Customer '{customer_name}' does not exist.\")\n",
    "book_movie_ticket(\"Dhoni\", \"Avatar\")"
   ]
  },
  {
   "cell_type": "code",
   "execution_count": 23,
   "id": "8007afe7-d428-4b43-a0ff-f5db8d723fda",
   "metadata": {},
   "outputs": [
    {
     "name": "stdout",
     "output_type": "stream",
     "text": [
      "Movie 'Avatar' booked for customer 'Shasi'.\n"
     ]
    }
   ],
   "source": [
    "# Function to book a movie ticket for a customer\n",
    "def book_movie_ticket(customer_name, movie_title):\n",
    "    if customer_name in customers:\n",
    "        customers[customer_name].append(movie_title)\n",
    "        print(f\"Movie '{movie_title}' booked for customer '{customer_name}'.\")\n",
    "    else:\n",
    "        print(f\"Customer '{customer_name}' does not exist.\")\n",
    "book_movie_ticket(\"Shasi\", \"Avatar\")"
   ]
  },
  {
   "cell_type": "code",
   "execution_count": 24,
   "id": "44ea5c29-05b8-4e7a-977f-71e9d4b888f2",
   "metadata": {},
   "outputs": [
    {
     "name": "stdout",
     "output_type": "stream",
     "text": [
      "{'John': ['Inception'], 'Alice': ['The Dark Knight'], 'Bob': [], 'Shasi': ['Avatar', 'Avatar', 'Avatar', 'Avatar']}\n"
     ]
    }
   ],
   "source": [
    "print(customers)\n"
   ]
  },
  {
   "cell_type": "code",
   "execution_count": 25,
   "id": "8853827f-a57b-4489-9191-58fda5d77d0b",
   "metadata": {},
   "outputs": [
    {
     "name": "stdout",
     "output_type": "stream",
     "text": [
      "[{'title': 'Inception', 'genre': 'Sci-Fi', 'showtime': '18:00'}, {'title': 'The Dark Knight', 'genre': 'Action', 'showtime': '21:00'}]\n"
     ]
    }
   ],
   "source": [
    "print(movies)"
   ]
  },
  {
   "cell_type": "code",
   "execution_count": 26,
   "id": "39184599-5735-4735-a9ee-14c9f39f945b",
   "metadata": {},
   "outputs": [
    {
     "name": "stdout",
     "output_type": "stream",
     "text": [
      "\n",
      "Movies:\n",
      "{'title': 'Inception', 'genre': 'Sci-Fi', 'showtime': '18:00'}\n",
      "{'title': 'The Dark Knight', 'genre': 'Action', 'showtime': '21:00'}\n",
      "\n",
      "Theaters:\n",
      "Theater 3\n",
      "Cinepolis\n",
      "PVR Cinemas\n",
      "INOX\n",
      "\n",
      "Ticket Pricing:\n",
      "(150, 200, 250)\n",
      "\n",
      "Customer Bookings:\n",
      "John: ['Inception']\n",
      "Alice: ['The Dark Knight']\n",
      "Bob: []\n",
      "Shasi: ['Avatar', 'Avatar', 'Avatar', 'Avatar']\n"
     ]
    }
   ],
   "source": [
    "# Function to print all movies, theaters, ticket pricing, and customer bookings\n",
    "def print_all_data():\n",
    "    print(\"\\nMovies:\")\n",
    "    for movie in movies:\n",
    "        print(movie)\n",
    "    \n",
    "    print(\"\\nTheaters:\")\n",
    "    for theater in theaters:\n",
    "        print(theater)\n",
    "    \n",
    "    print(\"\\nTicket Pricing:\")\n",
    "    print(ticket_pricing)\n",
    "    \n",
    "    print(\"\\nCustomer Bookings:\")\n",
    "    for customer, booked_movies in customers.items():\n",
    "        print(f\"{customer}: {booked_movies}\")\n",
    "print_all_data()"
   ]
  },
  {
   "cell_type": "code",
   "execution_count": null,
   "id": "2b563cb7-20d1-4870-903f-af9bd1255336",
   "metadata": {},
   "outputs": [],
   "source": []
  }
 ],
 "metadata": {
  "kernelspec": {
   "display_name": "Python 3 (ipykernel)",
   "language": "python",
   "name": "python3"
  },
  "language_info": {
   "codemirror_mode": {
    "name": "ipython",
    "version": 3
   },
   "file_extension": ".py",
   "mimetype": "text/x-python",
   "name": "python",
   "nbconvert_exporter": "python",
   "pygments_lexer": "ipython3",
   "version": "3.13.2"
  }
 },
 "nbformat": 4,
 "nbformat_minor": 5
}

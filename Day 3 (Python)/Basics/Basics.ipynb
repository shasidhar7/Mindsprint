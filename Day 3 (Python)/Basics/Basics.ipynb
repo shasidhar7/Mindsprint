{
 "cells": [
  {
   "cell_type": "code",
   "execution_count": 1,
   "id": "03503996-8585-45f6-8665-d113fc207288",
   "metadata": {},
   "outputs": [
    {
     "name": "stdout",
     "output_type": "stream",
     "text": [
      "Hello World\n"
     ]
    }
   ],
   "source": [
    "print(\"Hello World\")"
   ]
  },
  {
   "cell_type": "code",
   "execution_count": 3,
   "id": "e3f23625-b47d-4d62-aadf-711e8763962c",
   "metadata": {},
   "outputs": [
    {
     "name": "stdout",
     "output_type": "stream",
     "text": [
      "Number:  10\n",
      "Number2: 20.89\n",
      "Name:  Mind Sprint\n"
     ]
    }
   ],
   "source": [
    "# variables\n",
    "num1 = 10\n",
    "num2 = 20.89\n",
    "name = \"Mind Sprint\"\n",
    "\n",
    "print(\"Number: \",num1)\n",
    "print(f\"Number2: {num2}\")\n",
    "print(\"Name: \",name)"
   ]
  },
  {
   "cell_type": "code",
   "execution_count": 14,
   "id": "02b9d4cb-b64d-45dc-a5bd-0d7aef4e2226",
   "metadata": {},
   "outputs": [
    {
     "name": "stdout",
     "output_type": "stream",
     "text": [
      "x: Orange\n",
      "y: Banana\n",
      "z: Cherry\n",
      "\n",
      "\n",
      "a: Happy Birthday\n",
      "b: Happy Birthday\n",
      "c: Happy Birthday\n"
     ]
    }
   ],
   "source": [
    "# Assign values\n",
    "x,y,z = \"Orange\", \"Banana\", \"Cherry\"\n",
    "a=b=c = \"Happy Birthday\"\n",
    "\n",
    "print(\"x:\",x)\n",
    "print(\"y:\",y)\n",
    "print(\"z:\",z)\n",
    "print(\"\\n\")\n",
    "print(\"a:\",a)\n",
    "print(\"b:\",b)\n",
    "print(\"c:\",c)\n"
   ]
  },
  {
   "cell_type": "code",
   "execution_count": 20,
   "id": "2da5c0fe-668d-4c48-8cb0-f294a5376aae",
   "metadata": {},
   "outputs": [
    {
     "name": "stdin",
     "output_type": "stream",
     "text": [
      "Enter first number 4\n",
      "Enter second number 2\n"
     ]
    },
    {
     "name": "stdout",
     "output_type": "stream",
     "text": [
      "Addition:  6\n",
      "Substraction:  2\n",
      "Multiplication:  8\n",
      "Division:  2.0\n",
      "Modulus:  0\n",
      "Exponential:  16\n",
      "Floor division:  2\n"
     ]
    }
   ],
   "source": [
    "# Taking input from user\n",
    "num1 = int(input(\"Enter first number\"))\n",
    "num2 = int(input(\"Enter second number\"))\n",
    "\n",
    "print(\"Addition: \", (num1+num2))\n",
    "\n",
    "print(\"Substraction: \", num1-num2)\n",
    "\n",
    "print(\"Multiplication: \", num1*num2)\n",
    "\n",
    "print(\"Division: \", num1/num2)\n",
    "\n",
    "print(\"Modulus: \", num1%num2)\n",
    "\n",
    "print(\"Exponential: \", num1**num2)\n",
    "\n",
    "print(\"Floor division: \", num1//num2)\n",
    "\n",
    "\n"
   ]
  },
  {
   "cell_type": "code",
   "execution_count": 21,
   "id": "64a522a3-e870-4c0a-94fb-bb05430cb87d",
   "metadata": {},
   "outputs": [
    {
     "name": "stdout",
     "output_type": "stream",
     "text": [
      "Is the num1 equals to num2? False\n",
      "Is num1 not equals to num2? True\n",
      "Is num1 greater than num2? False\n",
      "Is num1 less than num2? True\n",
      "Is num1 greater than or equal to  num2? False\n",
      "Is num1 less than or equal to num2? True\n"
     ]
    }
   ],
   "source": [
    "# Equal to\n",
    "num1 = 5\n",
    "num2 = 6\n",
    "\n",
    "print(\"Is the num1 equals to num2?\", num1 == num2)\n",
    "\n",
    "print(\"Is num1 not equals to num2?\", num1 != num2)\n",
    "\n",
    "print(\"Is num1 greater than num2?\", num1 > num2)\n",
    "\n",
    "print(\"Is num1 less than num2?\", num1 < num2)\n",
    "\n",
    "print(\"Is num1 greater than or equal to  num2?\", num1 >= num2)\n",
    "\n",
    "print(\"Is num1 less than or equal to num2?\", num1 <= num2)"
   ]
  },
  {
   "cell_type": "code",
   "execution_count": 22,
   "id": "94c46386-718f-4c3a-8033-b6ae9a634991",
   "metadata": {},
   "outputs": [
    {
     "name": "stdout",
     "output_type": "stream",
     "text": [
      "initial value:  10\n",
      "After increment:  15\n",
      "After decrement:  12\n",
      "after multiplication:  24\n"
     ]
    }
   ],
   "source": [
    "# declare a variable\n",
    "num = 10\n",
    "\n",
    "print(\"initial value: \", num)\n",
    "\n",
    "num += 5\n",
    "print(\"After increment: \", num)\n",
    "\n",
    "num -= 3\n",
    "print(\"After decrement: \", num)\n",
    "\n",
    "num*=2\n",
    "print(\"after multiplication: \", num)"
   ]
  },
  {
   "cell_type": "code",
   "execution_count": 24,
   "id": "a4b003ab-5bfd-4eb6-a147-1984b36bd027",
   "metadata": {},
   "outputs": [
    {
     "name": "stdin",
     "output_type": "stream",
     "text": [
      "enter your email admin@123.com\n",
      "enter your password admin@1234\n"
     ]
    },
    {
     "name": "stdout",
     "output_type": "stream",
     "text": [
      "False\n"
     ]
    }
   ],
   "source": [
    "email = input('enter your email')\n",
    "password = input('enter your password')\n",
    "\n",
    "print(email =='admin@123.com' and password == 'admin@123')"
   ]
  },
  {
   "cell_type": "code",
   "execution_count": 32,
   "id": "f7aaccb8-032e-4a5d-8b3e-125eb6302306",
   "metadata": {},
   "outputs": [
    {
     "name": "stdout",
     "output_type": "stream",
     "text": [
      "positive number\n",
      "negative\n"
     ]
    }
   ],
   "source": [
    "num = 10\n",
    "\n",
    "if num>0:\n",
    "    print('positive number')\n",
    "\n",
    "num2 = -5\n",
    "if num2 > 0:\n",
    "    print(\"Positive\")\n",
    "else:\n",
    "    print(\"negative\")"
   ]
  },
  {
   "cell_type": "code",
   "execution_count": 33,
   "id": "0e078f84-6be1-40d3-9569-206289d98e53",
   "metadata": {},
   "outputs": [
    {
     "name": "stdout",
     "output_type": "stream",
     "text": [
      "Positive and odd number\n"
     ]
    }
   ],
   "source": [
    "# Nested if\n",
    "\n",
    "num = 15\n",
    "\n",
    "if num > 0:\n",
    "    if num % 2 == 0:\n",
    "        print(\"positive and even number\")\n",
    "    else:\n",
    "        print(\"Positive and odd number\")\n",
    "else:\n",
    "    print(\"Non positive number\")"
   ]
  },
  {
   "cell_type": "code",
   "execution_count": 35,
   "id": "c1c42bd6-c435-4cae-a0dc-0a1d2a9dd445",
   "metadata": {},
   "outputs": [
    {
     "name": "stdout",
     "output_type": "stream",
     "text": [
      "This won't execute\n"
     ]
    }
   ],
   "source": [
    "# Pass statement\n",
    "\n",
    "num = -5\n",
    "\n",
    "if num > 0:\n",
    "    pass\n",
    "else:\n",
    "    print(\"This won't execute\")"
   ]
  },
  {
   "cell_type": "code",
   "execution_count": 43,
   "id": "4f602b23-71ec-451d-96b8-16953b433b80",
   "metadata": {},
   "outputs": [
    {
     "name": "stdin",
     "output_type": "stream",
     "text": [
      "Enter marks:  70\n"
     ]
    },
    {
     "name": "stdout",
     "output_type": "stream",
     "text": [
      "Grade B\n"
     ]
    }
   ],
   "source": [
    "# Grade assignment\n",
    "marks = int(input(\"Enter marks: \"))\n",
    "\n",
    "if marks >= 90 and marks <= 100:\n",
    "    print(\"Grade A\")\n",
    "elif marks >= 70 and marks < 90:\n",
    "    print(\"Grade B\")\n",
    "elif marks >= 50 and marks < 70:\n",
    "    print(\"Grade C\")\n",
    "else:\n",
    "    print(\"Sorry you are failed\")"
   ]
  },
  {
   "cell_type": "code",
   "execution_count": 49,
   "id": "1a9d6950-3f8b-490b-a67a-7fa5afa58c4f",
   "metadata": {},
   "outputs": [
    {
     "name": "stdin",
     "output_type": "stream",
     "text": [
      "Enter the number 8\n"
     ]
    },
    {
     "name": "stdout",
     "output_type": "stream",
     "text": [
      "It is even number\n"
     ]
    }
   ],
   "source": [
    "# Positive and negative number\n",
    "num = int(input(\"Enter the number\"))\n",
    "if num > 0:\n",
    "    if num % 2 == 0:\n",
    "        print(\"It is even number\")\n",
    "    else:\n",
    "        print(\"It is odd number\")\n",
    "elif num == 0:\n",
    "    print(\"Its ZERO!!\")\n",
    "elif num < 0:\n",
    "    if num < -10:\n",
    "        print(\"The number is less than -10\")\n",
    "    else:\n",
    "        print(\"The number is greater than -10 and less than 0\")"
   ]
  },
  {
   "cell_type": "code",
   "execution_count": 53,
   "id": "f6ab6501-fb00-436f-8f88-98fa8aea2018",
   "metadata": {},
   "outputs": [
    {
     "name": "stdin",
     "output_type": "stream",
     "text": [
      "Enter the purchase amount 8\n"
     ]
    },
    {
     "name": "stdout",
     "output_type": "stream",
     "text": [
      "There is no discount\n",
      "The final price is:  8\n"
     ]
    }
   ],
   "source": [
    "# Discount calculation\n",
    "amt = int(input(\"Enter the purchase amount\"))\n",
    "if amt > 500:\n",
    "          print(\"Im giving the 20 % discount\")\n",
    "          discounted_price = ((20 * amt) / 100 )\n",
    "          final_price = amt - discounted_price\n",
    "          print(\"The final price is: \", final_price)\n",
    "elif amt >= 200 and amt <= 500:\n",
    "          discounted_price1 = ((10 * amt) / 100)\n",
    "          final_price = amt - discounted_price1\n",
    "          print(\"The final price is: \", final_price)\n",
    "elif amt < 200:\n",
    "          print(\"There is no discount\")\n",
    "          print(\"The final price is: \", amt)\n",
    " "
   ]
  },
  {
   "cell_type": "code",
   "execution_count": 56,
   "id": "8eb84b69-56bb-4edc-b1e8-0b7929afa344",
   "metadata": {},
   "outputs": [
    {
     "name": "stdout",
     "output_type": "stream",
     "text": [
      "Count:  1\n",
      "Count:  2\n",
      "Count:  3\n",
      "Count:  4\n",
      "Count:  5\n"
     ]
    }
   ],
   "source": [
    "# while loop\n",
    "count = 1\n",
    "while count <= 5:\n",
    "    print(\"Count: \", count)\n",
    "    count += 1"
   ]
  },
  {
   "cell_type": "code",
   "execution_count": 57,
   "id": "ff672c0f-864d-4b01-a740-02d98415f539",
   "metadata": {},
   "outputs": [
    {
     "name": "stdout",
     "output_type": "stream",
     "text": [
      "Number:  1\n",
      "Number:  2\n",
      "Number:  3\n",
      "Number:  4\n",
      "Number:  5\n"
     ]
    }
   ],
   "source": [
    "# for loop\n",
    "for num in range(1, 6):\n",
    "    print(\"Number: \", num)"
   ]
  },
  {
   "cell_type": "code",
   "execution_count": 58,
   "id": "71391389-8416-4742-b23a-e988cb25e61a",
   "metadata": {},
   "outputs": [
    {
     "name": "stdout",
     "output_type": "stream",
     "text": [
      "Number:  1\n",
      "Number:  2\n",
      "Number:  3\n",
      "Number:  4\n",
      "Breaking at number:  5\n"
     ]
    }
   ],
   "source": [
    "# for with break\n",
    "# loop through numbers from 1 to 10\n",
    "for num in range(1, 11):\n",
    "    if num == 5:\n",
    "        print(\"Breaking at number: \", num)\n",
    "        break\n",
    "    print(\"Number: \", num)"
   ]
  },
  {
   "cell_type": "code",
   "execution_count": 60,
   "id": "ed047ac4-41e8-4c37-aa69-916f1b623cad",
   "metadata": {},
   "outputs": [
    {
     "name": "stdout",
     "output_type": "stream",
     "text": [
      "Count is:  0\n",
      "Count is:  1\n",
      "Count is:  2\n",
      "Breaking at count= 3\n"
     ]
    }
   ],
   "source": [
    "# while with break\n",
    "count = 0\n",
    "while count < 5:\n",
    "    if count == 3:\n",
    "        print(\"Breaking at count=\", count)\n",
    "        break\n",
    "    print(\"Count is: \", count)\n",
    "    count += 1"
   ]
  },
  {
   "cell_type": "code",
   "execution_count": 65,
   "id": "39708abd-460d-4ba3-84c0-5f5350061a82",
   "metadata": {},
   "outputs": [
    {
     "name": "stdin",
     "output_type": "stream",
     "text": [
      "Enter the first number 1\n",
      "Enter the sec number 5\n"
     ]
    },
    {
     "name": "stdout",
     "output_type": "stream",
     "text": [
      "6\n"
     ]
    }
   ],
   "source": [
    "# Sum of all even numbers\n",
    "num1 = int(input(\"Enter the first number\"))\n",
    "num2 = int(input(\"Enter the sec number\"))\n",
    "sum1 = 0\n",
    "for num in range(num1, num2 + 1):\n",
    "    if num % 2 == 0:\n",
    "        sum1 += num\n",
    " \n",
    "print(sum1)"
   ]
  },
  {
   "cell_type": "markdown",
   "id": "25224bbe-7abb-4ddd-97ed-76004c8d9a13",
   "metadata": {},
   "source": [
    "#"
   ]
  },
  {
   "cell_type": "code",
   "execution_count": 69,
   "id": "c87e4c8a-6583-4ede-8edb-7b51734336f1",
   "metadata": {},
   "outputs": [
    {
     "name": "stdin",
     "output_type": "stream",
     "text": [
      "Enter the num: 7\n"
     ]
    },
    {
     "name": "stdout",
     "output_type": "stream",
     "text": [
      "\n",
      "1 \n",
      "1 2 \n",
      "1 2 3 \n",
      "1 2 3 4 \n",
      "1 2 3 4 5 \n"
     ]
    }
   ],
   "source": [
    "# number pattern\n",
    "num = int(input(\"Enter the num:\"))\n",
    "for i in range(1, num):\n",
    "    for j in range(1, i):\n",
    "        print(j, end=\" \")\n",
    "    print()"
   ]
  },
  {
   "cell_type": "markdown",
   "id": "28c2333d-2f9a-40dc-b05a-5043f01a9ebe",
   "metadata": {},
   "source": [
    "# Functions\n"
   ]
  },
  {
   "cell_type": "code",
   "execution_count": 70,
   "id": "4dda2ced-3b2d-45ea-a329-22c6ca6823be",
   "metadata": {},
   "outputs": [
    {
     "name": "stdout",
     "output_type": "stream",
     "text": [
      "Hello World\n"
     ]
    }
   ],
   "source": [
    "def hello():\n",
    "    print('Hello World')\n",
    "hello()"
   ]
  },
  {
   "cell_type": "code",
   "execution_count": 73,
   "id": "3f3b6bb7-1069-4724-8509-80eb2b5db5b9",
   "metadata": {},
   "outputs": [
    {
     "name": "stdout",
     "output_type": "stream",
     "text": [
      "Happy Birthday Shasi\n"
     ]
    }
   ],
   "source": [
    "def greet(name):\n",
    "    print ('Happy Birthday', name)\n",
    "greet('Shasi')"
   ]
  },
  {
   "cell_type": "code",
   "execution_count": 76,
   "id": "0500f9d5-0e1d-48fd-96eb-bb4768f6e09e",
   "metadata": {},
   "outputs": [
    {
     "name": "stdout",
     "output_type": "stream",
     "text": [
      "Hello, Alice!\n",
      "Hello, Guest!\n"
     ]
    }
   ],
   "source": [
    "# Default parameter\n",
    "def greet(name=\"Guest\"):\n",
    "    print(f\"Hello, {name}!\")\n",
    "\n",
    "greet(\"Alice\")\n",
    "greet()"
   ]
  },
  {
   "cell_type": "code",
   "execution_count": 77,
   "id": "3a238304-6c13-47d5-8880-59602a8cd622",
   "metadata": {},
   "outputs": [
    {
     "name": "stdout",
     "output_type": "stream",
     "text": [
      "Shasi is 24 years old and lives in AndhraPradesh.\n"
     ]
    }
   ],
   "source": [
    "# passing argument using keywords\n",
    "def desc_person(name, age, city):\n",
    "    print(f\"{name} is {age} years old and lives in {city}.\")\n",
    "\n",
    "desc_person(age=24, city=\"AndhraPradesh\", name=\"Shasi\")"
   ]
  },
  {
   "cell_type": "code",
   "execution_count": 85,
   "id": "6bfb9ee0-018a-48a8-9fae-b84478183e36",
   "metadata": {},
   "outputs": [
    {
     "name": "stdout",
     "output_type": "stream",
     "text": [
      "The factorial of 5 is: 120\n"
     ]
    }
   ],
   "source": [
    "#Recursion\n",
    "def fact(n):\n",
    "    if n == 1:\n",
    "        return 1\n",
    "    else:\n",
    "        return n * fact(n - 1)\n",
    "n = 5;\n",
    "result = fact(n)\n",
    "print(f\"The factorial of {n} is: {result}\")"
   ]
  },
  {
   "cell_type": "code",
   "execution_count": 84,
   "id": "26ee3716-3a48-4fa1-81a9-63f9cbd2cb5e",
   "metadata": {},
   "outputs": [
    {
     "name": "stdin",
     "output_type": "stream",
     "text": [
      "Enter username ghj\n",
      "Enter password gh\n"
     ]
    },
    {
     "name": "stdout",
     "output_type": "stream",
     "text": [
      "Failed login, check credentials\n"
     ]
    }
   ],
   "source": [
    "def validate(username, password):\n",
    "    if(username == \"admin@123.com\" and password == \"admin@123\"):\n",
    "        print(\"Login Successfull\")\n",
    "    else:\n",
    "        print(\"Failed login, check credentials\")\n",
    "\n",
    "username = input(\"Enter username\")\n",
    "password = input(\"Enter password\")\n",
    "validate(username, password)"
   ]
  },
  {
   "cell_type": "markdown",
   "id": "cd7173f7-0f77-4fed-bd8c-6414ba1aed35",
   "metadata": {},
   "source": [
    "# List\n"
   ]
  },
  {
   "cell_type": "code",
   "execution_count": 94,
   "id": "d73ce816-3b19-46a4-9000-3dbd95b55816",
   "metadata": {},
   "outputs": [
    {
     "name": "stdout",
     "output_type": "stream",
     "text": [
      "[10, 20, 30, 40, 50, 1]\n",
      "40\n",
      "[10, 20, 30, 40, 50, 1, 60]\n",
      "[10, 20, 25, 30, 40, 50, 1, 60]\n",
      "60 removed\n",
      "7\n",
      "Minimum Value 1\n",
      "Maximum Value 50\n",
      "Sum Value 176\n",
      "None\n",
      "[10, 20, 25, 30, 40, 50]\n",
      "[10, 20, 25, 30, 40, 50, 7, 18]\n"
     ]
    }
   ],
   "source": [
    "# List\n",
    "\n",
    "mylist = [10,20,30,40,50,1]\n",
    "print(mylist)\n",
    "\n",
    "# access based on index\n",
    "print(mylist[3])\n",
    "\n",
    "# append element\n",
    "mylist.append(60)\n",
    "print(mylist)\n",
    "\n",
    "# insert element at some index\n",
    "mylist.insert(2,25)\n",
    "print(mylist)\n",
    "\n",
    "# Data removal\n",
    "data = mylist.pop()  ##it will removing the last element\n",
    "print(data, \"removed\")\n",
    "\n",
    "print(len(mylist))   ##checking the length\n",
    "\n",
    "print('Minimum Value', min(mylist))\n",
    "print('Maximum Value', max(mylist))\n",
    "print('Sum Value', sum(mylist))\n",
    "print(mylist.remove(1))\n",
    "\n",
    "print(mylist)\n",
    "\n",
    "#adding element at last\n",
    "mylist.extend([7,18])\n",
    "print(mylist)"
   ]
  },
  {
   "cell_type": "code",
   "execution_count": 96,
   "id": "edfdd37d-4ffb-4e9c-a10c-055b6915e512",
   "metadata": {},
   "outputs": [
    {
     "name": "stdout",
     "output_type": "stream",
     "text": [
      "[10, 30, 40, 50, 7, 18]\n"
     ]
    }
   ],
   "source": [
    "# Delete using index number\n",
    "del mylist[1]\n",
    "print(mylist)\n"
   ]
  },
  {
   "cell_type": "code",
   "execution_count": 97,
   "id": "365e16e6-047e-4392-b717-81b51a277762",
   "metadata": {},
   "outputs": [
    {
     "name": "stdout",
     "output_type": "stream",
     "text": [
      "1\n",
      "2\n",
      "3\n",
      "48\n",
      "4\n",
      "9\n"
     ]
    }
   ],
   "source": [
    "# print the list elements\n",
    "mydata = [1,2,3,48,4,9]\n",
    "\n",
    "for num in mydata:\n",
    "    print(num)"
   ]
  },
  {
   "cell_type": "code",
   "execution_count": 103,
   "id": "9a4d71b7-7fc4-44b3-a47d-c449c2b38a8b",
   "metadata": {},
   "outputs": [
    {
     "name": "stdout",
     "output_type": "stream",
     "text": [
      "[1, 2, 3, 4, 9, 48]\n",
      "[48, 9, 4, 3, 2, 1]\n",
      "[1, 2, 3, 4, 9, 48]\n"
     ]
    }
   ],
   "source": [
    "# Sorthing\n",
    "\n",
    "# Ascending order\n",
    "mydata.sort()\n",
    "print(mydata)\n",
    "\n",
    "#Descending order\n",
    "mydata.sort(reverse = True)\n",
    "print(mydata)\n",
    "\n",
    "#reverse the previous list\n",
    "mydata.reverse()\n",
    "print(mydata)"
   ]
  },
  {
   "cell_type": "code",
   "execution_count": 104,
   "id": "fcceccca-52ca-4bff-9ad2-a637da132920",
   "metadata": {},
   "outputs": [
    {
     "name": "stdout",
     "output_type": "stream",
     "text": [
      "[1, 2, 3, 4, 9, 48]\n"
     ]
    }
   ],
   "source": [
    "# Copying the list elements\n",
    "copy_numbers = mydata.copy()\n",
    "print(copy_numbers)"
   ]
  },
  {
   "cell_type": "markdown",
   "id": "9809b043-02ce-4e22-9708-5e7f3267f09c",
   "metadata": {},
   "source": [
    "# ToDo"
   ]
  },
  {
   "cell_type": "code",
   "execution_count": 105,
   "id": "104c50e6-9340-456d-9ae4-78f01096c3fa",
   "metadata": {},
   "outputs": [
    {
     "name": "stdin",
     "output_type": "stream",
     "text": [
      "\n",
      "Enter 1 to add todos:  \n",
      "Enter 2 to remove todos:  \n",
      "Enter 3 to display all todos:  \n",
      "Enter 4 to exit:  1\n",
      "Enter the todo you want:  Java\n"
     ]
    },
    {
     "name": "stdout",
     "output_type": "stream",
     "text": [
      "['Java']\n"
     ]
    },
    {
     "name": "stdin",
     "output_type": "stream",
     "text": [
      "\n",
      "Enter 1 to add todos:  \n",
      "Enter 2 to remove todos:  \n",
      "Enter 3 to display all todos:  \n",
      "Enter 4 to exit:  4\n"
     ]
    }
   ],
   "source": [
    "todo_list = []\n",
    "def add_todo():\n",
    "    todo = input(\"Enter the todo you want: \")\n",
    "    todo_list.append(todo)\n",
    "    print(todo_list)\n",
    "def remove_todo():\n",
    "    num = int(input(\"give the index of todo: \"))\n",
    "    if num < (len(todo_list)):\n",
    "        todo_list.pop(num)\n",
    "    else:\n",
    "        print(\"\\nOut of range\")\n",
    "    \n",
    "    print(todo_list)\n",
    "def get_all_todos():\n",
    "    print(\"\\n\",todo_list)\n",
    " \n",
    "while True:\n",
    "    option = int(input(\"\\nEnter 1 to add todos:  \\nEnter 2 to remove todos:  \\nEnter 3 to display all todos:  \\nEnter 4 to exit: \"))\n",
    "   \n",
    "    if option == 1:\n",
    "        add_todo()\n",
    "    elif option == 2:\n",
    "        remove_todo()\n",
    "    elif option == 3:\n",
    "        get_all_todos()\n",
    "    elif option == 4:\n",
    "        break\n",
    "    else:\n",
    "        print(\"Please enter the proper number or option: \")\n",
    "    "
   ]
  },
  {
   "cell_type": "markdown",
   "id": "944122d3-f29a-4d90-9922-372ea4c25097",
   "metadata": {},
   "source": [
    "# Tuple"
   ]
  },
  {
   "cell_type": "code",
   "execution_count": 106,
   "id": "2e8d1bbf-abe4-4de0-ab3a-90cd4e5fb752",
   "metadata": {},
   "outputs": [
    {
     "name": "stdout",
     "output_type": "stream",
     "text": [
      "('Shasi', 'Nissarga', 'Manusree', 'Lokesh')\n"
     ]
    }
   ],
   "source": [
    "names = (\"Shasi\", \"Nissarga\",\"Manusree\",\"Lokesh\")\n",
    "print(names)"
   ]
  },
  {
   "cell_type": "code",
   "execution_count": 109,
   "id": "19179cda-1a8d-49dc-bd16-212a009f9fda",
   "metadata": {},
   "outputs": [
    {
     "name": "stdout",
     "output_type": "stream",
     "text": [
      "[13, 26, 31, 18]\n",
      "[13, 26, 31, 18, 17]\n"
     ]
    }
   ],
   "source": [
    "number_tuple = (13, 26, 31, 18)\n",
    "num_list = list(number_tuple)\n",
    "\n",
    "print(num_list)\n",
    "\n",
    "num_list.append(17)\n",
    "\n",
    "print(num_list)"
   ]
  },
  {
   "cell_type": "code",
   "execution_count": 110,
   "id": "79a93aaf-ad08-484c-aafe-60cbafa92c35",
   "metadata": {},
   "outputs": [
    {
     "name": "stdout",
     "output_type": "stream",
     "text": [
      "('Dhoni', 'Dhoni', 'Dhoni', 'Dhoni')\n"
     ]
    }
   ],
   "source": [
    "new_tuple = (\"Dhoni\",)*4\n",
    "print(new_tuple)"
   ]
  },
  {
   "cell_type": "markdown",
   "id": "5b0d519b-2bcc-4371-90c9-b83961c874e6",
   "metadata": {},
   "source": [
    "# Dictionary"
   ]
  },
  {
   "cell_type": "code",
   "execution_count": 115,
   "id": "5cca8307-7e2f-45f8-8ec5-c8c74c0f1ac5",
   "metadata": {},
   "outputs": [
    {
     "name": "stdout",
     "output_type": "stream",
     "text": [
      "{'eid': 17, 'name': 'Dhoni', 'dep': 'IT', 'salary': 87654}\n",
      "Employee id: 17\n",
      "Employee name: Dhoni\n"
     ]
    }
   ],
   "source": [
    "## Employee dictionary\n",
    "\n",
    "employee ={\n",
    "    \"eid\":17,\n",
    "    \"name\":\"Dhoni\",\n",
    "    \"dep\":\"IT\",\n",
    "    \"salary\":87654\n",
    "}\n",
    "\n",
    "print(employee)\n",
    "print(\"Employee id:\", employee[\"eid\"])\n",
    "print(\"Employee name:\", employee[\"name\"])"
   ]
  },
  {
   "cell_type": "code",
   "execution_count": 119,
   "id": "ebaff25f-0250-443c-be70-b19baa4916c5",
   "metadata": {},
   "outputs": [
    {
     "name": "stdout",
     "output_type": "stream",
     "text": [
      "Manager: None\n",
      "Manager: Nisarga and Manushree\n"
     ]
    }
   ],
   "source": [
    "# print(\"Manager:\" , employee('manager'))  ##if the key not found it will throws error\n",
    "print(\"Manager:\" , employee.get('manager')) ## if the key not found it will gives the none instead of error\n",
    "print(\"Manager:\" , employee.get('manager', \"Nisarga and Manushree\"))"
   ]
  },
  {
   "cell_type": "code",
   "execution_count": 124,
   "id": "da18d920-640a-4f0f-9c38-dd036f18c8fd",
   "metadata": {},
   "outputs": [
    {
     "name": "stdout",
     "output_type": "stream",
     "text": [
      "id :  1\n",
      "name :  Dhoni\n",
      "email :  dhoni@gmail.com\n",
      "address :  AP\n"
     ]
    }
   ],
   "source": [
    " Student = {\n",
    "     \"id\":1,\n",
    "     \"name\":\"Dhoni\",\n",
    "     \"email\":\"dhoni@gmail.com\",\n",
    "     \"address\":\"AP\"\n",
    " }\n",
    "\n",
    "for key in Student:\n",
    "    print(key, \": \",student[key])"
   ]
  },
  {
   "cell_type": "markdown",
   "id": "7055b24c-d549-4940-88b0-3d808924fda6",
   "metadata": {},
   "source": [
    "# Set"
   ]
  },
  {
   "cell_type": "code",
   "execution_count": 130,
   "id": "c0229786-a680-4eca-b76b-282915a2f0cb",
   "metadata": {},
   "outputs": [
    {
     "name": "stdout",
     "output_type": "stream",
     "text": [
      "{'Nisarga', 5, 'Dhoni', 'Manusree', 'Shasi'}\n"
     ]
    }
   ],
   "source": [
    "# Creating a set\n",
    "\n",
    "names = {\"Shasi\",\"Nisarga\",\"Manusree\",\"Dhoni\",5}\n",
    "print(names)\n"
   ]
  },
  {
   "cell_type": "code",
   "execution_count": 133,
   "id": "3ef0134f-f357-4c2f-9a3f-a9d119e6ce62",
   "metadata": {},
   "outputs": [
    {
     "name": "stdout",
     "output_type": "stream",
     "text": [
      "{200, 403, 404, 500}\n"
     ]
    }
   ],
   "source": [
    "myset = {404,200,500,403}\n",
    "print(myset)"
   ]
  },
  {
   "cell_type": "code",
   "execution_count": 134,
   "id": "494bf6d5-b7b7-4f5a-bdf4-00ea08bf3b83",
   "metadata": {},
   "outputs": [
    {
     "name": "stdout",
     "output_type": "stream",
     "text": [
      "{200, 403, 404, 500}\n",
      "{403, 404, 500}\n"
     ]
    }
   ],
   "source": [
    "myset.discard(303) #if not found then no error\n",
    "print(myset)\n",
    "myset.pop()\n",
    "print(myset)\n"
   ]
  },
  {
   "cell_type": "code",
   "execution_count": 135,
   "id": "4e491206-b643-4b96-a9df-7a803164fc68",
   "metadata": {},
   "outputs": [
    {
     "name": "stdout",
     "output_type": "stream",
     "text": [
      "{403, 404, 501, 500}\n",
      "{303, 402, 403, 404, 501, 500}\n",
      "{402, 403, 404, 501, 500}\n"
     ]
    }
   ],
   "source": [
    "#Adding an element\n",
    "myset.add(501)\n",
    "print(myset)\n",
    "myset.update([303,402]) #pass list to add multiple elements\n",
    "print(myset)\n",
    " \n",
    "#Removal\n",
    "myset.remove(303)\n",
    "print(myset)\n"
   ]
  },
  {
   "cell_type": "code",
   "execution_count": 136,
   "id": "719806ac-6526-4de8-9153-b97a5ebba6cf",
   "metadata": {},
   "outputs": [
    {
     "name": "stdout",
     "output_type": "stream",
     "text": [
      "{402, 403, 404, 501, 500}\n",
      "{303, 402, 403, 404, 501, 500}\n",
      "{402, 403, 404, 501, 500}\n"
     ]
    }
   ],
   "source": [
    "#Adding an element\n",
    "myset.add(501)\n",
    "print(myset)\n",
    "myset.update([303,402]) #pass list to add multiple elements\n",
    "print(myset)\n",
    " \n",
    "#Removal\n",
    "myset.remove(303)\n",
    "print(myset)"
   ]
  },
  {
   "cell_type": "code",
   "execution_count": 137,
   "id": "0f2361a6-7593-446c-bf45-fc33c97f5dc5",
   "metadata": {},
   "outputs": [
    {
     "name": "stdout",
     "output_type": "stream",
     "text": [
      "{1, 2, 3, 4, 5, 6, 7, 8}\n",
      "{1, 2, 3, 4, 5, 6, 7, 8}\n",
      "{4, 5}\n",
      "{4, 5}\n",
      "{1, 2, 3}\n",
      "{1, 2, 3}\n",
      "{1, 2, 3, 6, 7, 8}\n",
      "{1, 2, 3, 6, 7, 8}\n"
     ]
    }
   ],
   "source": [
    "A = {1, 2, 3, 4, 5}\n",
    "B = {4, 5, 6, 7, 8}\n",
    " \n",
    "#Union - combines elements from both sets\n",
    "print(A | B)\n",
    "print(A.union(B))\n",
    " \n",
    "#Intersection - common elements\n",
    "print(A & B)\n",
    "print(A.intersection(B))\n",
    " \n",
    "#Difference - elements in A but not in B\n",
    "print(A - B)\n",
    "print(A.difference(B))\n",
    " \n",
    "#Symmmetric Difference\n",
    "#Elements in either set but not in both\n",
    "print(A ^ B)\n",
    "print(A.symmetric_difference(B))"
   ]
  },
  {
   "cell_type": "markdown",
   "id": "b142edfa-db12-4ac8-945a-0e740108a052",
   "metadata": {},
   "source": [
    "# Employee salary tracker"
   ]
  },
  {
   "cell_type": "code",
   "execution_count": 149,
   "id": "8dad3d2d-6665-4131-a917-ea7d0bc5167f",
   "metadata": {},
   "outputs": [
    {
     "name": "stdout",
     "output_type": "stream",
     "text": [
      "{'employee1': {'eid': 17, 'name': 'Shasi', 'dep': 'IT', 'salary': 1000000}, 'employee2': {'eid': 26, 'name': 'Nisarga', 'dep': 'IT', 'salary': 70000000}, 'employee3': {'eid': 31, 'name': 'Manusree', 'dep': 'IT', 'salary': 1500000}}\n",
      "{'employee1': {'eid': 17, 'name': 'Shasi', 'dep': 'IT', 'salary': 1000000}, 'employee2': {'eid': 26, 'name': 'Nisarga', 'dep': 'IT', 'salary': 70000000}, 'employee3': {'eid': 31, 'name': 'Manusree', 'dep': 'IT', 'salary': 1500000}, 'employee4': {'name': 'Rahul', 'salary': 1200000}}\n",
      "{'employee1': {'eid': 17, 'name': 'Shasi', 'dep': 'IT', 'salary': 1000000}, 'employee2': {'eid': 26, 'name': 'Nisarga', 'dep': 'IT', 'salary': 70000000}, 'employee3': {'eid': 31, 'name': 'Manusree', 'dep': 'IT', 'salary': 12345}, 'employee4': {'name': 'Rahul', 'salary': 1200000}}\n"
     ]
    }
   ],
   "source": [
    "employees = {\n",
    "    \"employee1\":{\"eid\":17,\"name\":\"Shasi\",\"dep\":\"IT\",\"salary\":1000000},\n",
    "    \"employee2\":{\"eid\":26,\"name\":\"Nisarga\",\"dep\":\"IT\",\"salary\":70000000},\n",
    "    \"employee3\":{\"eid\":31,\"name\":\"Manusree\",\"dep\":\"IT\",\"salary\":1500000}\n",
    "}\n",
    "\n",
    "print(employees)\n",
    "\n",
    "# add an employee\n",
    "employees[\"employee4\"] = {\"name\": \"Rahul\", \"salary\": 1200000}\n",
    "print(employees)\n",
    "\n",
    "# update an employee\n",
    "employees[\"employee3\"].update({\"salary\":12345})\n",
    "print(employees)"
   ]
  },
  {
   "cell_type": "code",
   "execution_count": 151,
   "id": "d433217f-2451-41fc-a016-1e4ce0566733",
   "metadata": {},
   "outputs": [
    {
     "name": "stdout",
     "output_type": "stream",
     "text": [
      "---------------------------------------------\n",
      "eid: 1001\n",
      "name: Nisarga\n",
      "dept: IT\n",
      "salary: 100000067\n",
      "---------------------------------------------\n",
      "eid: 1002\n",
      "name: Shasidhar\n",
      "dept: IT\n",
      "salary: 100000067\n",
      "---------------------------------------------\n",
      "eid: 1003\n",
      "name: Manushree\n",
      "dept: IT\n",
      "salary: 100000067\n",
      "\n",
      "Adding a new employee:\n",
      "---------------------------------------------\n",
      "eid: 1001\n",
      "name: Nisarga\n",
      "dept: IT\n",
      "salary: 100000067\n",
      "---------------------------------------------\n",
      "eid: 1002\n",
      "name: Shasidhar\n",
      "dept: IT\n",
      "salary: 100000067\n",
      "---------------------------------------------\n",
      "eid: 1003\n",
      "name: Manushree\n",
      "dept: IT\n",
      "salary: 100000067\n",
      "---------------------------------------------\n",
      "eid: 1004\n",
      "name: Ravi\n",
      "dept: HR\n",
      "salary: 90000000\n",
      "\n",
      "Updating salary:\n",
      "Salary updated for employee ID 1002\n",
      "---------------------------------------------\n",
      "eid: 1001\n",
      "name: Nisarga\n",
      "dept: IT\n",
      "salary: 100000067\n",
      "---------------------------------------------\n",
      "eid: 1002\n",
      "name: Shasidhar\n",
      "dept: IT\n",
      "salary: 120000000\n",
      "---------------------------------------------\n",
      "eid: 1003\n",
      "name: Manushree\n",
      "dept: IT\n",
      "salary: 100000067\n",
      "---------------------------------------------\n",
      "eid: 1004\n",
      "name: Ravi\n",
      "dept: HR\n",
      "salary: 90000000\n",
      "\n",
      "Removing an employee:\n",
      "Employee with ID 1003 removed\n",
      "---------------------------------------------\n",
      "eid: 1001\n",
      "name: Nisarga\n",
      "dept: IT\n",
      "salary: 100000067\n",
      "---------------------------------------------\n",
      "eid: 1002\n",
      "name: Shasidhar\n",
      "dept: IT\n",
      "salary: 120000000\n",
      "---------------------------------------------\n",
      "eid: 1004\n",
      "name: Ravi\n",
      "dept: HR\n",
      "salary: 90000000\n"
     ]
    }
   ],
   "source": [
    "# employees = { \n",
    "#     \"employee1\" : { \"eid\" : 1001, \"name\" : \"Nisarga\", \"dept\" : \"IT\",\"salary\" : 100000067 },\n",
    "#     \"employee2\" : { \"eid\" : 1002, \"name\" : \"shasidhar\", \"dept\" : \"IT\", \"salary\" : 100000067 }, \n",
    "#     \"employee3\" : { \"eid\" : 1003, \"name\" : \"manushree\", \"dept\" : \"IT\", \"salary\" : 100000067 }\n",
    "# }\n",
    " \n",
    "# def add_employee(eid, name, department, salary):\n",
    "#     n = len(employees)\n",
    "#     employees[f'employee[{n + 1} '] = { \"eid\" : id, \"name\" : name, \"department\" : department, \"salary\" : salary}\n",
    " \n",
    " \n",
    "# def update_salary(eid, name, department, salary):\n",
    "#     pass\n",
    " \n",
    "# def remove_employee(eid, name, department, salary):\n",
    "#     pass\n",
    "# def print_employee(employees):\n",
    "#     for emp in employees:\n",
    "#         print(\"---------------------------------------------\")\n",
    "#         for key in employees[employee]:\n",
    "#             print(key, \" \", employees[employee][key])\n",
    "# print_employee(employees)\n",
    " \n",
    " \n",
    "employees = { \n",
    "    \"employee1\" : { \"eid\" : 1001, \"name\" : \"Nisarga\", \"dept\" : \"IT\", \"salary\" : 100000067 },\n",
    "    \"employee2\" : { \"eid\" : 1002, \"name\" : \"Shasidhar\", \"dept\" : \"IT\", \"salary\" : 100000067 }, \n",
    "    \"employee3\" : { \"eid\" : 1003, \"name\" : \"Manushree\", \"dept\" : \"IT\", \"salary\" : 100000067 }\n",
    "}\n",
    " \n",
    "def add_employee(eid, name, department, salary):\n",
    "    n = len(employees)\n",
    "    employees[f'employee{n + 1}'] = { \"eid\" : eid, \"name\" : name, \"dept\" : department, \"salary\" : salary }\n",
    " \n",
    "def update_salary(eid, new_salary):\n",
    "    for emp in employees.values():\n",
    "        if emp['eid'] == eid:\n",
    "            emp['salary'] = new_salary\n",
    "            return f\"Salary updated for employee ID {eid}\"\n",
    "    return f\"Employee with ID {eid} not found\"\n",
    " \n",
    "def remove_employee(eid):\n",
    "    for key, emp in list(employees.items()):\n",
    "        if emp['eid'] == eid:\n",
    "            del employees[key]\n",
    "            return f\"Employee with ID {eid} removed\";\n",
    "    return f\"Employee with ID {eid} not found\"\n",
    " \n",
    "def print_employee(employees):\n",
    "    for emp in employees:\n",
    "        print(\"---------------------------------------------\")\n",
    "        for key in employees[emp]:\n",
    "            print(f\"{key}: {employees[emp][key]}\")\n",
    " \n",
    "# Testing the functions\n",
    "print_employee(employees)\n",
    "print(\"\\nAdding a new employee:\")\n",
    "add_employee(1004, \"Ravi\", \"HR\", 90000000)\n",
    "print_employee(employees)\n",
    "print(\"\\nUpdating salary:\")\n",
    "print(update_salary(1002, 120000000))\n",
    "print_employee(employees)\n",
    "print(\"\\nRemoving an employee:\")\n",
    "print(remove_employee(1003))\n",
    "print_employee(employees)\n"
   ]
  },
  {
   "cell_type": "code",
   "execution_count": null,
   "id": "7e2b50bc-52cb-406f-8bf6-37a9096a5695",
   "metadata": {},
   "outputs": [],
   "source": []
  }
 ],
 "metadata": {
  "kernelspec": {
   "display_name": "Python 3 (ipykernel)",
   "language": "python",
   "name": "python3"
  },
  "language_info": {
   "codemirror_mode": {
    "name": "ipython",
    "version": 3
   },
   "file_extension": ".py",
   "mimetype": "text/x-python",
   "name": "python",
   "nbconvert_exporter": "python",
   "pygments_lexer": "ipython3",
   "version": "3.13.2"
  }
 },
 "nbformat": 4,
 "nbformat_minor": 5
}
